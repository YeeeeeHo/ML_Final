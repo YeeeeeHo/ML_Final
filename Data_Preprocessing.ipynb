{
 "cells": [
  {
   "cell_type": "markdown",
   "metadata": {},
   "source": [
    "# 데이터 전처리(분류, 회귀, 군집화 모두 똑같음)"
   ]
  },
  {
   "cell_type": "markdown",
   "metadata": {},
   "source": [
    "## 데이터 불러오기 "
   ]
  },
  {
   "cell_type": "code",
   "execution_count": null,
   "metadata": {},
   "outputs": [],
   "source": [
    "import pandas as pd\n",
    "\n",
    "# Load the dataset\n",
    "file_path = '파일 경로로'\n",
    "data = pd.read_csv(file_path)\n",
    "\n",
    "# Display the first few rows of the dataset to understand its structure\n",
    "data.head()\n"
   ]
  },
  {
   "cell_type": "markdown",
   "metadata": {},
   "source": [
    "### 1. 결측값 처리"
   ]
  },
  {
   "cell_type": "code",
   "execution_count": null,
   "metadata": {},
   "outputs": [],
   "source": [
    "# 결측값 확인\n",
    "print(data.isnull().sum())\n",
    "\n",
    "# 수치형 열의 결측값을 해당 열의 평균으로 대체\n",
    "data['horsepower'].fillna(data['horsepower'].mean(), inplace=True)\n",
    "data['mpg'].fillna(data['mpg'].mean(), inplace=True)\n",
    "\n",
    "# 텍스트형 열의 결측값을 \"Unknown\"으로 대체\n",
    "data['origin'].fillna('Unknown', inplace=True)\n",
    "\n",
    "\n",
    "# 결측값 50%이상인 행 삭제\n",
    "# 각 행의 결측값 비율 계산\n",
    "row_missing_percentage = data.isnull().mean(axis=1) * 100\n",
    "\n",
    "# 결측값 비율이 50% 이상인 행 삭제\n",
    "rows_to_drop = row_missing_percentage[row_missing_percentage >= 50].index\n",
    "data.drop(index=rows_to_drop, inplace=True)\n",
    "\n",
    "# 변경된 데이터 확인\n",
    "print(data.isnull().sum())\n",
    "\n"
   ]
  },
  {
   "cell_type": "markdown",
   "metadata": {},
   "source": [
    "### 2. 범주형 변수 처리"
   ]
  },
  {
   "cell_type": "code",
   "execution_count": null,
   "metadata": {},
   "outputs": [],
   "source": [
    "# 'origin' 열을 원-핫 인코딩\n",
    "data = pd.get_dummies(data, columns=['origin'], drop_first=True)\n",
    "\n",
    "\n",
    "\n",
    "\n",
    "from sklearn.preprocessing import LabelEncoder\n",
    "\n",
    "# 'origin' 열을 라벨 인코딩 (1, 2, 3으로 변환)\n",
    "label_encoder = LabelEncoder()\n",
    "data['origin'] = label_encoder.fit_transform(data['origin'])\n"
   ]
  },
  {
   "cell_type": "markdown",
   "metadata": {},
   "source": [
    "### 3. 스케일링"
   ]
  },
  {
   "cell_type": "code",
   "execution_count": null,
   "metadata": {},
   "outputs": [],
   "source": [
    "#표준화\n",
    "from sklearn.preprocessing import StandardScaler\n",
    "\n",
    "# 수치형 데이터 열만 적기\n",
    "numeric_cols = ['mpg', 'horsepower', 'weight', 'acceleration', 'model year', 'cylinders']\n",
    "\n",
    "# 표준화\n",
    "scaler = StandardScaler()\n",
    "data[numeric_cols] = scaler.fit_transform(data[numeric_cols])\n",
    "\n",
    "print(data.head())"
   ]
  },
  {
   "cell_type": "code",
   "execution_count": null,
   "metadata": {},
   "outputs": [],
   "source": [
    "#정규화\n",
    "from sklearn.preprocessing import MinMaxScaler\n",
    "\n",
    "# 정규화\n",
    "scaler = MinMaxScaler()\n",
    "data[numeric_cols] = scaler.fit_transform(data[numeric_cols])\n",
    "\n",
    "print(data.head())\n"
   ]
  },
  {
   "cell_type": "markdown",
   "metadata": {},
   "source": [
    "### 5. 이상치 처리"
   ]
  },
  {
   "cell_type": "code",
   "execution_count": null,
   "metadata": {},
   "outputs": [],
   "source": [
    "# IQR을 이용해 이상치 탐지\n",
    "Q1 = data['horsepower'].quantile(0.25)\n",
    "Q3 = data['horsepower'].quantile(0.75)\n",
    "IQR = Q3 - Q1\n",
    "\n",
    "# 이상치 경계\n",
    "lower_bound = Q1 - 1.5 * IQR\n",
    "upper_bound = Q3 + 1.5 * IQR\n",
    "\n",
    "# 이상치가 아닌 값만 필터링\n",
    "data_no_outliers = data[(data['horsepower'] >= lower_bound) & (data['horsepower'] <= upper_bound)]\n",
    "\n",
    "print(data_no_outliers.head())\n"
   ]
  },
  {
   "cell_type": "markdown",
   "metadata": {},
   "source": [
    "### 6. 데이터 분할"
   ]
  },
  {
   "cell_type": "code",
   "execution_count": null,
   "metadata": {},
   "outputs": [],
   "source": [
    "from sklearn.model_selection import train_test_split\n",
    "\n",
    "# 특성과 타겟 변수 분리\n",
    "# 타겟변수는 모델이 예측해야 하는 결과값\n",
    "X = data.drop(columns=['mpg'])  # 타겟 변수 'mpg' 제외\n",
    "y = data['mpg']\n",
    "\n",
    "# 데이터 분할 (훈련용 80%, 테스트용 20%)\n",
    "X_train, X_test, y_train, y_test = train_test_split(X, y, test_size=0.2, random_state=42)\n",
    "\n",
    "print(X_train.shape, X_test.shape)\n"
   ]
  },
  {
   "cell_type": "markdown",
   "metadata": {},
   "source": [
    "### 7. 텍스트형 데이터 전처리\n",
    " "
   ]
  },
  {
   "cell_type": "code",
   "execution_count": null,
   "metadata": {},
   "outputs": [],
   "source": [
    "import re\n",
    "\n",
    "# 예시 텍스트 열 처리 (가정: 'car_name' 열이 텍스트형 데이터)\n",
    "def preprocess_text(text):\n",
    "    text = text.lower()  # 소문자 변환\n",
    "    text = re.sub(r'[^a-zA-Z0-9\\s]', '', text)  # 특수 문자 제거\n",
    "    return text\n",
    "\n",
    "data['car_name'] = data['car_name'].apply(preprocess_text)\n",
    "\n",
    "print(data['car_name'].head())"
   ]
  },
  {
   "cell_type": "code",
   "execution_count": null,
   "metadata": {},
   "outputs": [],
   "source": [
    "from sklearn.feature_extraction.text import TfidfVectorizer\n",
    "\n",
    "# 텍스트 데이터를 TF-IDF 벡터로 변환\n",
    "tfidf = TfidfVectorizer()\n",
    "X_text = tfidf.fit_transform(data['car_name'])\n",
    "\n",
    "print(X_text.shape)  # 벡터화된 데이터의 크기"
   ]
  },
  {
   "cell_type": "markdown",
   "metadata": {},
   "source": [
    "### 8. 데이터 시각화"
   ]
  },
  {
   "cell_type": "code",
   "execution_count": null,
   "metadata": {},
   "outputs": [],
   "source": [
    "import matplotlib.pyplot as plt\n",
    "import seaborn as sns\n",
    "\n",
    "# 'mpg'와 'horsepower'의 관계 시각화\n",
    "sns.scatterplot(x=data['horsepower'], y=data['mpg'])\n",
    "plt.title('Horsepower vs MPG')\n",
    "plt.xlabel('Horsepower')\n",
    "plt.ylabel('MPG')\n",
    "plt.show()\n"
   ]
  },
  {
   "cell_type": "code",
   "execution_count": null,
   "metadata": {},
   "outputs": [],
   "source": [
    "## 회귀 데이터 선형성 확인을 위한 산점도 그리기\n",
    "import pandas as pd\n",
    "import matplotlib.pyplot as plt\n",
    "import seaborn as sns\n",
    "\n",
    "# 데이터 불러오기\n",
    "file_path = 'auto-mpg.csv'\n",
    "data = pd.read_csv(file_path)\n",
    "\n",
    "# 특성과 타겟 변수 선택\n",
    "X = data['horsepower'] #특성\n",
    "y = data['mpg'] # 타겟변수\n",
    "\n",
    "# 선형 관계 산점도\n",
    "plt.figure(figsize=(8, 6))\n",
    "plt.scatter(X, y, color='blue', alpha=0.7)\n",
    "plt.title(\"Scatter Plot: Horsepower vs MPG (Linear)\")\n",
    "plt.xlabel(\"Horsepower\")\n",
    "plt.ylabel(\"MPG\")\n",
    "plt.show()\n",
    "\n",
    "# 비선형 관계 산점도 예시 (weight vs mpg)\n",
    "X_nonlinear = data['weight']\n",
    "y_nonlinear = data['mpg']\n",
    "\n",
    "plt.figure(figsize=(8, 6))\n",
    "plt.scatter(X_nonlinear, y_nonlinear, color='red', alpha=0.7)\n",
    "plt.title(\"Scatter Plot: Weight vs MPG (Nonlinear)\")\n",
    "plt.xlabel(\"Weight\")\n",
    "plt.ylabel(\"MPG\")\n",
    "plt.show()\n"
   ]
  },
  {
   "cell_type": "markdown",
   "metadata": {},
   "source": [
    "### 차원 축소"
   ]
  },
  {
   "cell_type": "code",
   "execution_count": null,
   "metadata": {},
   "outputs": [],
   "source": [
    "from sklearn.decomposition import PCA\n",
    "\n",
    "# PCA를 사용한 차원 축소\n",
    "pca = PCA(n_components=2)\n",
    "data_reduced = pca.fit_transform(data)\n"
   ]
  }
 ],
 "metadata": {
  "kernelspec": {
   "display_name": "Python 3",
   "language": "python",
   "name": "python3"
  },
  "language_info": {
   "codemirror_mode": {
    "name": "ipython",
    "version": 3
   },
   "file_extension": ".py",
   "mimetype": "text/x-python",
   "name": "python",
   "nbconvert_exporter": "python",
   "pygments_lexer": "ipython3",
   "version": "3.12.2"
  }
 },
 "nbformat": 4,
 "nbformat_minor": 2
}

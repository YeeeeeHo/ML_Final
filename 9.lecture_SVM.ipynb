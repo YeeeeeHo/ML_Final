{
 "cells": [
  {
   "cell_type": "markdown",
   "id": "865b54e9",
   "metadata": {},
   "source": [
    "\n",
    "# SVM (Support Vector Machine)\n",
    "\n",
    "SVM은 데이터 포인트를 분류하기 위해 결정 경계(Decision Boundary)를 찾는 지도 학습 기법입니다.\n",
    "\n",
    "### 주요 개념\n",
    "- **마진(Margin)**: 두 클래스의 가장 가까운 데이터 포인트 간의 거리.\n",
    "- **서포트 벡터(Support Vector)**: 마진에 위치한 데이터 포인트.\n",
    "\n",
    "---\n"
   ]
  },
  {
   "cell_type": "markdown",
   "id": "72d095a2",
   "metadata": {},
   "source": [
    "\n",
    "# Lagrange Multiplier with KKT Condition\n",
    "\n",
    "SVM의 최적화를 위한 라그랑주 승수법(Lagrange Multiplier)을 사용하며, KKT 조건을 만족시켜야 합니다.\n",
    "\n",
    "### KKT 조건\n",
    "- **최적화 문제**를 해결하기 위한 제약 조건.\n",
    "\n",
    "---\n"
   ]
  },
  {
   "cell_type": "markdown",
   "id": "d8d12e9a",
   "metadata": {},
   "source": [
    "\n",
    "# Dual Problem\n",
    "\n",
    "SVM 최적화 문제를 이중 형태(Dual Problem)로 변환하여 계산을 단순화.\n",
    "\n",
    "### 주요 특징\n",
    "- 계산 복잡도 감소.\n",
    "- Kernel Trick과 결합 가능.\n",
    "\n",
    "---\n"
   ]
  },
  {
   "cell_type": "markdown",
   "id": "c7366826",
   "metadata": {},
   "source": [
    "\n",
    "# C-SVM (Soft-Margin SVM)\n",
    "\n",
    "C-SVM은 하드 마진(Hard-Margin) SVM에서 유연성을 추가하여 마진 내에 관측치를 허용합니다.\n",
    "\n",
    "### 특징\n",
    "- **C 값**: 마진과 허용 오차 간의 균형을 조정.\n",
    "- C가 크면 마진이 좁아지고, 작으면 마진이 넓어짐.\n",
    "\n",
    "---\n"
   ]
  },
  {
   "cell_type": "markdown",
   "id": "fd758929",
   "metadata": {},
   "source": [
    "\n",
    "# Kernel-SVM\n",
    "\n",
    "선형 분리가 불가능한 데이터를 고차원 공간으로 맵핑하여 분류.\n",
    "\n",
    "### 주요 Kernel\n",
    "- **Linear Kernel**: 선형.\n",
    "- **Polynomial Kernel**: 다항식.\n",
    "- **Sigmoid Kernel**: 시그모이드.\n",
    "- **Gaussian (RBF) Kernel**: 방사형.\n",
    "\n",
    "---\n"
   ]
  }
 ],
 "metadata": {},
 "nbformat": 4,
 "nbformat_minor": 5
}

{
 "cells": [
  {
   "cell_type": "markdown",
   "id": "de5cc476",
   "metadata": {},
   "source": [
    "# 다양한 모델 결과 시각화\n",
    "\n",
    "이 노트북은 분류, 회귀, 클러스터링 등 다양한 모델의 평가 결과를 시각화하는 코드를 포함합니다."
   ]
  },
  {
   "cell_type": "markdown",
   "id": "b3bf8296",
   "metadata": {},
   "source": [
    "## 분류 모델 시각화"
   ]
  },
  {
   "cell_type": "code",
   "execution_count": null,
   "id": "6a293363",
   "metadata": {},
   "outputs": [],
   "source": [
    "from sklearn.metrics import confusion_matrix, ConfusionMatrixDisplay, roc_curve, auc, precision_recall_curve\n",
    "import matplotlib.pyplot as plt\n"
   ]
  },
  {
   "cell_type": "markdown",
   "id": "fd2d9a07",
   "metadata": {},
   "source": [
    "# Confusion Matrix 시각화"
   ]
  },
  {
   "cell_type": "code",
   "execution_count": null,
   "id": "002d6567",
   "metadata": {},
   "outputs": [],
   "source": [
    "\n",
    "y_pred = model.predict(X_test)\n",
    "conf_matrix = confusion_matrix(y_test, y_pred)\n",
    "disp = ConfusionMatrixDisplay(confusion_matrix=conf_matrix, display_labels=model.classes_)\n",
    "disp.plot(cmap='viridis')\n",
    "plt.title(\"Confusion Matrix\")\n",
    "plt.show()\n"
   ]
  },
  {
   "cell_type": "markdown",
   "id": "0e55ad87",
   "metadata": {},
   "source": [
    "# ROC Curve 시각화"
   ]
  },
  {
   "cell_type": "code",
   "execution_count": null,
   "id": "94d26a2c",
   "metadata": {},
   "outputs": [],
   "source": [
    "y_prob = model.predict_proba(X_test)[:, 1]  # 양성 클래스 확률\n",
    "fpr, tpr, _ = roc_curve(y_test, y_prob)\n",
    "roc_auc = auc(fpr, tpr)\n",
    "\n",
    "plt.figure(figsize=(8, 6))\n",
    "plt.plot(fpr, tpr, label=f'ROC Curve (AUC = {roc_auc:.2f})')\n",
    "plt.plot([0, 1], [0, 1], linestyle='--', color='gray')\n",
    "plt.title(\"ROC Curve\")\n",
    "plt.xlabel(\"False Positive Rate\")\n",
    "plt.ylabel(\"True Positive Rate\")\n",
    "plt.legend(loc=\"lower right\")\n",
    "plt.show()\n"
   ]
  },
  {
   "cell_type": "markdown",
   "id": "fa1cb61a",
   "metadata": {},
   "source": [
    "\n",
    "# Precision-Recall Curve 시각화"
   ]
  },
  {
   "cell_type": "code",
   "execution_count": null,
   "id": "0b1c1e9e",
   "metadata": {},
   "outputs": [],
   "source": [
    "\n",
    "precision, recall, _ = precision_recall_curve(y_test, y_prob)\n",
    "plt.figure(figsize=(8, 6))\n",
    "plt.plot(recall, precision, label=\"Precision-Recall Curve\")\n",
    "plt.title(\"Precision-Recall Curve\")\n",
    "plt.xlabel(\"Recall\")\n",
    "plt.ylabel(\"Precision\")\n",
    "plt.legend(loc=\"lower left\")\n",
    "plt.show()\n"
   ]
  },
  {
   "cell_type": "markdown",
   "id": "255715cc",
   "metadata": {},
   "source": [
    "---"
   ]
  },
  {
   "cell_type": "markdown",
   "id": "efda4bed",
   "metadata": {},
   "source": [
    "## 회귀 모델 시각화"
   ]
  },
  {
   "cell_type": "markdown",
   "id": "99fbbf25",
   "metadata": {},
   "source": [
    "# 산점도 (실제값 vs 예측값)"
   ]
  },
  {
   "cell_type": "code",
   "execution_count": null,
   "id": "404bd2e1",
   "metadata": {},
   "outputs": [],
   "source": [
    "plt.figure(figsize=(8, 6))\n",
    "plt.scatter(y_test, y_pred, alpha=0.5)\n",
    "plt.plot([y_test.min(), y_test.max()], [y_test.min(), y_test.max()], 'k--', lw=2)\n",
    "plt.title(\"Actual vs Predicted\")\n",
    "plt.xlabel(\"Actual Values\")\n",
    "plt.ylabel(\"Predicted Values\")\n",
    "plt.show()\n",
    "\n"
   ]
  },
  {
   "cell_type": "markdown",
   "id": "56d955d0",
   "metadata": {},
   "source": [
    "# 잔차 플롯 (Residual Plot)"
   ]
  },
  {
   "cell_type": "code",
   "execution_count": null,
   "id": "6f927fa4",
   "metadata": {},
   "outputs": [],
   "source": [
    "\n",
    "\n",
    "residuals = y_test - y_pred\n",
    "plt.figure(figsize=(8, 6))\n",
    "plt.scatter(y_pred, residuals, alpha=0.5)\n",
    "plt.axhline(y=0, color='r', linestyle='--')\n",
    "plt.title(\"Residual Plot\")\n",
    "plt.xlabel(\"Predicted Values\")\n",
    "plt.ylabel(\"Residuals\")\n",
    "plt.show()\n"
   ]
  },
  {
   "cell_type": "markdown",
   "id": "9ae3c276",
   "metadata": {},
   "source": [
    "\n",
    "# Feature Importance 시각화 (회귀 모델)"
   ]
  },
  {
   "cell_type": "code",
   "execution_count": null,
   "id": "0d58dede",
   "metadata": {},
   "outputs": [],
   "source": [
    "\n",
    "if hasattr(model, 'feature_importances_'):\n",
    "    feature_importance = model.feature_importances_\n",
    "    feature_names = X.columns\n",
    "\n",
    "    plt.figure(figsize=(10, 6))\n",
    "    plt.barh(feature_names, feature_importance, color='skyblue')\n",
    "    plt.title(\"Feature Importance\")\n",
    "    plt.xlabel(\"Importance Score\")\n",
    "    plt.show()"
   ]
  },
  {
   "cell_type": "markdown",
   "id": "6efc05f9",
   "metadata": {},
   "source": [
    "---"
   ]
  },
  {
   "cell_type": "markdown",
   "id": "e132cb39",
   "metadata": {},
   "source": [
    "## 클러스터링 모델 시각화"
   ]
  },
  {
   "cell_type": "code",
   "execution_count": null,
   "id": "a5725cb4",
   "metadata": {},
   "outputs": [],
   "source": [
    "\n",
    "from sklearn.decomposition import PCA\n",
    "\n",
    "# PCA를 사용한 2D 시각화\n",
    "pca = PCA(n_components=2)\n",
    "X_pca = pca.fit_transform(X)\n",
    "\n",
    "plt.figure(figsize=(8, 6))\n",
    "plt.scatter(X_pca[:, 0], X_pca[:, 1], c=cluster_labels, cmap='viridis', alpha=0.5)\n",
    "plt.title(\"Clustering Visualization with PCA\")\n",
    "plt.xlabel(\"Principal Component 1\")\n",
    "plt.ylabel(\"Principal Component 2\")\n",
    "plt.colorbar(label='Cluster')\n",
    "plt.show()\n"
   ]
  },
  {
   "cell_type": "markdown",
   "id": "5425d1f2",
   "metadata": {},
   "source": [
    "## 차원 축소 결과 시각화"
   ]
  },
  {
   "cell_type": "code",
   "execution_count": null,
   "id": "aac65571",
   "metadata": {},
   "outputs": [],
   "source": [
    "\n",
    "plt.figure(figsize=(8, 6))\n",
    "plt.scatter(X_reduced[:, 0], X_reduced[:, 1], c=labels, cmap='viridis', alpha=0.5)\n",
    "plt.title(\"Dimensionality Reduction Visualization\")\n",
    "plt.xlabel(\"Reduced Dimension 1\")\n",
    "plt.ylabel(\"Reduced Dimension 2\")\n",
    "plt.colorbar(label='Class/Cluster')\n",
    "plt.show()\n"
   ]
  },
  {
   "cell_type": "markdown",
   "id": "92bef181",
   "metadata": {},
   "source": [
    "## 일반 산점도"
   ]
  },
  {
   "cell_type": "code",
   "execution_count": null,
   "id": "30d1e92f",
   "metadata": {},
   "outputs": [],
   "source": [
    "\n",
    "# 일반 산점도\n",
    "plt.figure(figsize=(8, 6))\n",
    "plt.scatter(X[:, 0], X[:, 1], c=y, cmap='viridis', alpha=0.5)\n",
    "plt.title(\"General Scatter Plot\")\n",
    "plt.xlabel(\"Feature 1\")\n",
    "plt.ylabel(\"Feature 2\")\n",
    "plt.colorbar(label='Target/Cluster')\n",
    "plt.show()\n"
   ]
  }
 ],
 "metadata": {
  "language_info": {
   "name": "python"
  }
 },
 "nbformat": 4,
 "nbformat_minor": 5
}

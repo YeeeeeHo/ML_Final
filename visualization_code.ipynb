{
 "cells": [
  {
   "cell_type": "markdown",
   "id": "3ce82150",
   "metadata": {},
   "source": [
    "# 결과 시각화를 위한 코드\n",
    "\n",
    "이 노트북은 다양한 모델 평가 결과를 시각화하는 데 필요한 코드를 제공합니다."
   ]
  },
  {
   "cell_type": "markdown",
   "id": "43f77b77",
   "metadata": {},
   "source": [
    "## 1. Confusion Matrix (혼동 행렬) 시각화"
   ]
  },
  {
   "cell_type": "code",
   "execution_count": null,
   "id": "17940673",
   "metadata": {},
   "outputs": [],
   "source": [
    "\n",
    "from sklearn.metrics import confusion_matrix, ConfusionMatrixDisplay\n",
    "import matplotlib.pyplot as plt\n",
    "\n",
    "# Confusion Matrix 생성 및 시각화\n",
    "y_pred = model.predict(X_test)  # 모델 예측값\n",
    "conf_matrix = confusion_matrix(y_test, y_pred)\n",
    "disp = ConfusionMatrixDisplay(confusion_matrix=conf_matrix, display_labels=model.classes_)\n",
    "disp.plot(cmap='viridis')\n",
    "plt.title(\"Confusion Matrix\")\n",
    "plt.show()\n"
   ]
  },
  {
   "cell_type": "markdown",
   "id": "417a270c",
   "metadata": {},
   "source": [
    "## 2. ROC Curve 시각화"
   ]
  },
  {
   "cell_type": "code",
   "execution_count": null,
   "id": "662aef4e",
   "metadata": {},
   "outputs": [],
   "source": [
    "\n",
    "from sklearn.metrics import roc_curve, auc\n",
    "\n",
    "# ROC Curve 생성 및 시각화\n",
    "y_prob = model.predict_proba(X_test)[:, 1]  # 양성 클래스 확률\n",
    "fpr, tpr, _ = roc_curve(y_test, y_prob)\n",
    "roc_auc = auc(fpr, tpr)\n",
    "\n",
    "plt.figure(figsize=(8, 6))\n",
    "plt.plot(fpr, tpr, label=f'ROC Curve (AUC = {roc_auc:.2f})')\n",
    "plt.plot([0, 1], [0, 1], linestyle='--', color='gray')\n",
    "plt.title(\"ROC Curve\")\n",
    "plt.xlabel(\"False Positive Rate\")\n",
    "plt.ylabel(\"True Positive Rate\")\n",
    "plt.legend(loc=\"lower right\")\n",
    "plt.show()\n"
   ]
  },
  {
   "cell_type": "markdown",
   "id": "d7f22548",
   "metadata": {},
   "source": [
    "## 3. Precision-Recall Curve 시각화"
   ]
  },
  {
   "cell_type": "code",
   "execution_count": null,
   "id": "b8bfb121",
   "metadata": {},
   "outputs": [],
   "source": [
    "\n",
    "from sklearn.metrics import precision_recall_curve\n",
    "\n",
    "# Precision-Recall Curve 생성 및 시각화\n",
    "precision, recall, _ = precision_recall_curve(y_test, y_prob)\n",
    "plt.figure(figsize=(8, 6))\n",
    "plt.plot(recall, precision, label=\"Precision-Recall Curve\")\n",
    "plt.title(\"Precision-Recall Curve\")\n",
    "plt.xlabel(\"Recall\")\n",
    "plt.ylabel(\"Precision\")\n",
    "plt.legend(loc=\"lower left\")\n",
    "plt.show()\n"
   ]
  },
  {
   "cell_type": "markdown",
   "id": "4cf137a6",
   "metadata": {},
   "source": [
    "## 4. Feature Importance 시각화"
   ]
  },
  {
   "cell_type": "code",
   "execution_count": null,
   "id": "df09e035",
   "metadata": {},
   "outputs": [],
   "source": [
    "\n",
    "import matplotlib.pyplot as plt\n",
    "\n",
    "# Feature Importance 시각화 (랜덤 포레스트 모델 기준)\n",
    "feature_importance = model.feature_importances_  # 모델의 중요도 값\n",
    "feature_names = X.columns  # 독립 변수 이름\n",
    "\n",
    "plt.figure(figsize=(10, 6))\n",
    "plt.barh(feature_names, feature_importance, color='skyblue')\n",
    "plt.title(\"Feature Importance\")\n",
    "plt.xlabel(\"Importance Score\")\n",
    "plt.show()\n"
   ]
  },
  {
   "cell_type": "markdown",
   "id": "85c380d0",
   "metadata": {},
   "source": [
    "## 5. 데이터 균형 시각화 (SMOTE 사용 전후)"
   ]
  },
  {
   "cell_type": "code",
   "execution_count": null,
   "id": "f99b6e8d",
   "metadata": {},
   "outputs": [],
   "source": [
    "\n",
    "# 오버샘플링 데이터 시각화\n",
    "plt.figure(figsize=(12, 6))\n",
    "\n",
    "# 원본 데이터\n",
    "plt.subplot(1, 2, 1)\n",
    "plt.scatter(X_train[:, 0], X_train[:, 1], c=y_train, cmap='viridis', alpha=0.5)\n",
    "plt.title(\"Original Data\")\n",
    "\n",
    "# 오버샘플링 데이터\n",
    "plt.subplot(1, 2, 2)\n",
    "plt.scatter(X_train_resampled[:, 0], X_train_resampled[:, 1], c=y_train_resampled, cmap='viridis', alpha=0.5)\n",
    "plt.title(\"After SMOTE Oversampling\")\n",
    "\n",
    "plt.tight_layout()\n",
    "plt.show()\n"
   ]
  }
 ],
 "metadata": {},
 "nbformat": 4,
 "nbformat_minor": 5
}

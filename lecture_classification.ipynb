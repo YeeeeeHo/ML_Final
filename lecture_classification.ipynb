{
 "cells": [
  {
   "cell_type": "markdown",
   "id": "413e36af",
   "metadata": {},
   "source": [
    "\n",
    "# 머신러닝 개요와 지도 학습\n",
    "\n",
    "## 1. 머신러닝의 종류\n",
    "- **지도 학습 (Supervised Learning)**, **비지도 학습 (Unsupervised Learning)**, **강화 학습 (Reinforcement Learning)** 등.\n",
    "- 지도 학습은 **입출력 쌍**을 기반으로 입력을 출력으로 매핑하는 함수를 학습하는 방식.\n",
    "\n",
    "---\n",
    "\n",
    "## 2. 지도 학습 (Supervised Learning)\n",
    "### 목표\n",
    "- 입력(독립변수)으로부터 출력(종속변수)을 예측하는 함수 생성.\n",
    "\n",
    "### 적용 분야\n",
    "- **분류 (Classification)**: 데이터를 특정 클래스(카테고리)로 구분.\n",
    "- **회귀 (Regression)**: 연속적인 출력값을 예측.\n",
    "\n",
    "### 데이터 타입\n",
    "- **양적 입력/출력**: 숫자형 데이터 (예: 회귀 분석).\n",
    "- **질적 입력/출력**: 범주형 데이터 (예: 분류).\n",
    "- **순서형 데이터**: 순서가 있는 범주형 데이터 (예: Small, Medium, Large).\n",
    "\n",
    "---\n",
    "\n",
    "## 3. 예측 모델\n",
    "- **선형 모델과 최소 제곱법**: 데이터를 직선으로 근사하여 예측.\n",
    "- **k-최근접 이웃 (k-Nearest Neighbor)**:\n",
    "  - 주변 데이터의 다수결 원칙으로 분류.\n",
    "  - 거리 기반으로 가장 가까운 `k`개의 데이터 참고.\n",
    "\n",
    "---\n",
    "\n",
    "## 4. 분류 알고리즘\n",
    "### 주요 알고리즘\n",
    "- 나이브 베이즈 (Naive Bayes), 로지스틱 회귀 (Logistic Regression), 결정 트리 (Decision Tree), SVM, 인공신경망, 앙상블 등.\n",
    "\n",
    "### 결정 트리 (Decision Tree)\n",
    "- **구조**:\n",
    "  - **규칙 노드 (Decision Node)**: 조건을 정의.\n",
    "  - **리프 노드 (Leaf Node)**: 최종 클래스.\n",
    "- **규칙 생성 기준**:\n",
    "  - 엔트로피 (Entropy), 지니 불순도 (Gini Impurity).\n",
    "- **장점**:\n",
    "  - 직관적이고 시각화가 쉬움.\n",
    "  - 전처리가 필요 없음.\n",
    "- **단점**:\n",
    "  - 과적합(overfitting) 문제로 테스트 데이터에 대한 정확도 저하.\n",
    "\n",
    "---\n",
    "\n",
    "## 5. 사용자 행동 인식\n",
    "- **UCI 데이터 세트** 활용:\n",
    "  - 스마트폰 센서 데이터를 활용해 인간 행동 분석.\n",
    "  - 데이터 전처리(중복된 피처 제거), 하이퍼파라미터 최적화 포함.\n",
    "- **피처 중요도 평가**:\n",
    "  - 중요한 피처를 분석하여 모델 성능 향상.\n",
    "\n",
    "---\n",
    "\n",
    "## 6. 결론\n",
    "- 지도 학습은 예측 및 분류 문제 해결에 매우 효과적.\n",
    "- 데이터 품질과 모델 과적합 문제에 주의 필요.\n",
    "- 결정 트리와 k-NN 같은 기본 모델부터 복잡한 앙상블 모델까지 다양한 방법 활용 가능.\n"
   ]
  },
  {
   "cell_type": "markdown",
   "id": "81263528",
   "metadata": {},
   "source": [
    "# Naive Bayes "
   ]
  },
  {
   "cell_type": "code",
   "execution_count": 7,
   "id": "6e9ea841",
   "metadata": {},
   "outputs": [
    {
     "ename": "ModuleNotFoundError",
     "evalue": "No module named 'sklearn'",
     "output_type": "error",
     "traceback": [
      "\u001b[0;31m---------------------------------------------------------------------------\u001b[0m",
      "\u001b[0;31mModuleNotFoundError\u001b[0m                       Traceback (most recent call last)",
      "Cell \u001b[0;32mIn[7], line 1\u001b[0m\n\u001b[0;32m----> 1\u001b[0m \u001b[38;5;28;01mfrom\u001b[39;00m \u001b[38;5;21;01msklearn\u001b[39;00m\u001b[38;5;21;01m.\u001b[39;00m\u001b[38;5;21;01mdatasets\u001b[39;00m \u001b[38;5;28;01mimport\u001b[39;00m load_iris\n\u001b[1;32m      2\u001b[0m \u001b[38;5;28;01mfrom\u001b[39;00m \u001b[38;5;21;01msklearn\u001b[39;00m\u001b[38;5;21;01m.\u001b[39;00m\u001b[38;5;21;01mmodel_selection\u001b[39;00m \u001b[38;5;28;01mimport\u001b[39;00m train_test_split\n\u001b[1;32m      3\u001b[0m \u001b[38;5;28;01mfrom\u001b[39;00m \u001b[38;5;21;01msklearn\u001b[39;00m\u001b[38;5;21;01m.\u001b[39;00m\u001b[38;5;21;01mnaive_bayes\u001b[39;00m \u001b[38;5;28;01mimport\u001b[39;00m GaussianNB\n",
      "\u001b[0;31mModuleNotFoundError\u001b[0m: No module named 'sklearn'"
     ]
    }
   ],
   "source": [
    "from sklearn.datasets import load_iris\n",
    "from sklearn.model_selection import train_test_split\n",
    "from sklearn.naive_bayes import GaussianNB\n",
    "from sklearn.metrics import accuracy_score\n",
    "\n",
    "# 데이터셋 로드\n",
    "iris = load_iris()\n",
    "X, y = iris.data, iris.target\n",
    "\n",
    "# 데이터셋 분리\n",
    "X_train, X_test, y_train, y_test = train_test_split(X, y, test_size=0.2, random_state=42)\n",
    "\n",
    "# 나이브 베이즈 모델 생성 및 학습\n",
    "nb_model = GaussianNB()\n",
    "nb_model.fit(X_train, y_train)\n",
    "\n",
    "# 예측 및 평가\n",
    "y_pred = nb_model.predict(X_test)\n",
    "accuracy = accuracy_score(y_test, y_pred)\n",
    "print(f\"나이브 베이즈 정확도: {accuracy:.2f}\")\n"
   ]
  },
  {
   "cell_type": "markdown",
   "id": "23952aea",
   "metadata": {},
   "source": [
    "# Logistic Regression"
   ]
  },
  {
   "cell_type": "code",
   "execution_count": null,
   "id": "62be32e7",
   "metadata": {},
   "outputs": [],
   "source": [
    "from sklearn.linear_model import LogisticRegression\n",
    "\n",
    "# 로지스틱 회귀 모델 생성 및 학습\n",
    "log_reg = LogisticRegression(max_iter=200)\n",
    "log_reg.fit(X_train, y_train)\n",
    "\n",
    "# 예측 및 평가\n",
    "y_pred = log_reg.predict(X_test)\n",
    "accuracy = accuracy_score(y_test, y_pred)\n",
    "print(f\"로지스틱 회귀 정확도: {accuracy:.2f}\")\n"
   ]
  },
  {
   "cell_type": "markdown",
   "id": "7bfff6e5",
   "metadata": {},
   "source": [
    "# Decision Tree"
   ]
  },
  {
   "cell_type": "markdown",
   "id": "4e6faa12",
   "metadata": {},
   "source": [
    "from sklearn.tree import DecisionTreeClassifier\n",
    "\n",
    "# 결정 트리 모델 생성 및 학습\n",
    "clf = DecisionTreeClassifier(max_depth=3, random_state=42)\n",
    "clf.fit(X_train, y_train)\n",
    "\n",
    "# 예측 및 평가\n",
    "y_pred = clf.predict(X_test)\n",
    "accuracy = accuracy_score(y_test, y_pred)\n",
    "print(f\"결정 트리 정확도: {accuracy:.2f}\")\n"
   ]
  },
  {
   "cell_type": "markdown",
   "id": "5858c343",
   "metadata": {},
   "source": [
    "# SVM"
   ]
  },
  {
   "cell_type": "code",
   "execution_count": null,
   "id": "87ce987b",
   "metadata": {},
   "outputs": [],
   "source": [
    "from sklearn.svm import SVC\n",
    "\n",
    "# SVM 모델 생성 및 학습\n",
    "svm_model = SVC(kernel='linear', random_state=42)\n",
    "svm_model.fit(X_train, y_train)\n",
    "\n",
    "# 예측 및 평가\n",
    "y_pred = svm_model.predict(X_test)\n",
    "accuracy = accuracy_score(y_test, y_pred)\n",
    "print(f\"SVM 정확도: {accuracy:.2f}\")\n"
   ]
  },
  {
   "cell_type": "markdown",
   "id": "1e8260d9",
   "metadata": {},
   "source": [
    "# KNN"
   ]
  },
  {
   "cell_type": "code",
   "execution_count": null,
   "id": "67110b35",
   "metadata": {},
   "outputs": [],
   "source": [
    "from sklearn.neighbors import KNeighborsClassifier\n",
    "\n",
    "# k-NN 모델 생성 및 학습\n",
    "knn_model = KNeighborsClassifier(n_neighbors=5)\n",
    "knn_model.fit(X_train, y_train)\n",
    "\n",
    "# 예측 및 평가\n",
    "y_pred = knn_model.predict(X_test)\n",
    "accuracy = accuracy_score(y_test, y_pred)\n",
    "print(f\"k-NN 정확도: {accuracy:.2f}\")\n"
   ]
  },
  {
   "cell_type": "markdown",
   "id": "579f9528",
   "metadata": {},
   "source": [
    "# Neural Network"
   ]
  },
  {
   "cell_type": "markdown",
   "id": "b82738e3",
   "metadata": {},
   "source": [
    "from sklearn.neural_network import MLPClassifier\n",
    "\n",
    "# 신경망 모델 생성 및 학습\n",
    "nn_model = MLPClassifier(hidden_layer_sizes=(10, 10), max_iter=1000, random_state=42)\n",
    "nn_model.fit(X_train, y_train)\n",
    "\n",
    "# 예측 및 평가\n",
    "y_pred = nn_model.predict(X_test)\n",
    "accuracy = accuracy_score(y_test, y_pred)\n",
    "print(f\"인공 신경망 정확도: {accuracy:.2f}\")\n"
   ]
  },
  {
   "cell_type": "markdown",
   "id": "e930dd86",
   "metadata": {},
   "source": [
    "# Ensemble - RandomForest"
   ]
  },
  {
   "cell_type": "markdown",
   "id": "e3f4f9c6",
   "metadata": {},
   "source": [
    "from sklearn.ensemble import RandomForestClassifier\n",
    "\n",
    "# 랜덤 포레스트 모델 생성 및 학습\n",
    "rf_model = RandomForestClassifier(n_estimators=100, random_state=42)\n",
    "rf_model.fit(X_train, y_train)\n",
    "\n",
    "# 예측 및 평가\n",
    "y_pred = rf_model.predict(X_test)\n",
    "accuracy = accuracy_score(y_test, y_pred)\n",
    "print(f\"랜덤 포레스트 정확도: {accuracy:.2f}\")\n"
   ]
  }
 ],
 "metadata": {
  "kernelspec": {
   "display_name": "detect",
   "language": "python",
   "name": "tf-metal"
  },
  "language_info": {
   "codemirror_mode": {
    "name": "ipython",
    "version": 3
   },
   "file_extension": ".py",
   "mimetype": "text/x-python",
   "name": "python",
   "nbconvert_exporter": "python",
   "pygments_lexer": "ipython3",
   "version": "3.8.19"
  }
 },
 "nbformat": 4,
 "nbformat_minor": 5
}
